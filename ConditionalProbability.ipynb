{
 "cells": [
  {
   "cell_type": "code",
   "execution_count": 6,
   "metadata": {},
   "outputs": [],
   "source": [
    "import numpy as dumpy\n",
    "import numpy as np\n",
    "import numpy"
   ]
  },
  {
   "cell_type": "code",
   "execution_count": 25,
   "metadata": {},
   "outputs": [],
   "source": [
    "# runs the diseasetests.py and puts the results into a namespace called diseasetests\n",
    "#import diseasetests as dt"
   ]
  },
  {
   "cell_type": "code",
   "execution_count": 26,
   "metadata": {},
   "outputs": [],
   "source": [
    "class Person:\n",
    "    def __init__(self):\n",
    "        self.hasDisease = np.random.choice([0,1],p=[9999/10000, 1/10000])"
   ]
  },
  {
   "cell_type": "code",
   "execution_count": 27,
   "metadata": {},
   "outputs": [],
   "source": []
  },
  {
   "cell_type": "code",
   "execution_count": 55,
   "metadata": {},
   "outputs": [
    {
     "name": "stdout",
     "output_type": "stream",
     "text": [
      "Number of positive tests: (1057,)\n",
      "Number of actual positives: 8\n"
     ]
    }
   ],
   "source": [
    "people = [Person() for i in range(1,100000)]\n",
    "tests = np.array([0 for person in people])\n",
    "count = 0\n",
    "for (index,person) in enumerate(people):\n",
    "    if person.hasDisease:\n",
    "        count += 1\n",
    "        tests[index] = np.random.choice([1,0], p=[99/100, 1/100])\n",
    "    else:\n",
    "        tests[index] = np.random.choice([1,0], p=[1/100, 99/100])\n",
    "\n",
    "print(f\"Number of positive tests: {tests[tests==1].shape}\")\n",
    "print(f\"Number of actual positives: {count}\")"
   ]
  },
  {
   "cell_type": "code",
   "execution_count": null,
   "metadata": {},
   "outputs": [],
   "source": []
  },
  {
   "cell_type": "code",
   "execution_count": null,
   "metadata": {},
   "outputs": [],
   "source": []
  }
 ],
 "metadata": {
  "kernelspec": {
   "display_name": "Python 3",
   "language": "python",
   "name": "python3"
  },
  "language_info": {
   "codemirror_mode": {
    "name": "ipython",
    "version": 3
   },
   "file_extension": ".py",
   "mimetype": "text/x-python",
   "name": "python",
   "nbconvert_exporter": "python",
   "pygments_lexer": "ipython3",
   "version": "3.6.7"
  }
 },
 "nbformat": 4,
 "nbformat_minor": 2
}
