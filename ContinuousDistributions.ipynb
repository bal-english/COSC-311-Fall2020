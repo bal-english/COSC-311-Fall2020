{
 "cells": [
  {
   "cell_type": "markdown",
   "metadata": {},
   "source": [
    "# Continuous Distributions\n",
    "\n",
    "Compare versus the \"coin flip\" distributions in which our observed values only come from a discrete (either finite or countably infinite) set of possibilities. In a discrete distribution, there are single \"elements\" or \"atoms\" that have a non-zero probability of appearing, e.g. $P(HEADS) = 0.5$.\n",
    "\n",
    "In a continous distribution, there are no single \"atoms\" that have a non-zero probability.\n",
    "\n",
    "Example: a uniformly random value between $a$ and $b$, $U(a,b)$. In this case, simplify to $a=0$, $b=1$, then $P(0.5) = 0$. *But* the _distribution function_ of these values is not 0 between $a$ and $b$. \n",
    "\n",
    "For $U(a,b)$, the _pdf_ aka \"probability density function\" is\n",
    "$$ f(x) = \\begin{cases} \\frac{1}{b-a} \\quad a \\leq x \\leq b \\\\ 0 \\quad \\text{otherwise}. \\end{cases} $$"
   ]
  },
  {
   "cell_type": "markdown",
   "metadata": {},
   "source": [
    "The _cdf_ aka \"cumulative density function\" for this is\n",
    "$$ F(x) = P(\\text{value is at most } x) = \\int_{-\\infty}^{x} f(t) dt.$$\n",
    "For $U(a,b)$ the cdf is going to be\n",
    "$$ F(x) = \\int_{-\\infty}^{x} \\frac{1}{b-a} dt = \\int_{a}^{x} \\frac{1}{b-a} dt  = \\frac{t}{b-a} \\Bigg|_{a}^{x} = \\frac{x-a}{b-a}$$\n",
    "taking care of other cases:\n",
    "$$ F(x) = \\begin{cases} 0 \\quad x < a \\\\ \\frac{x-a}{b-a} \\quad a \\leq x \\leq b \\\\ 1 \\quad x > b \\end{cases} $$"
   ]
  },
  {
   "cell_type": "code",
   "execution_count": 1,
   "metadata": {},
   "outputs": [],
   "source": [
    "def uniform_pdf(x, a, b):\n",
    "    return 1.0/(b-a) if a <= x <= b else 0"
   ]
  },
  {
   "cell_type": "code",
   "execution_count": 10,
   "metadata": {},
   "outputs": [],
   "source": [
    "def uniform_cdf(x, a, b):\n",
    "    if x < a: return 0\n",
    "    elif x <= b: return (x-a)/(b-a)\n",
    "    else:     return 1"
   ]
  },
  {
   "cell_type": "code",
   "execution_count": 7,
   "metadata": {},
   "outputs": [],
   "source": [
    "from matplotlib import pyplot as plt\n",
    "import numpy as np"
   ]
  },
  {
   "cell_type": "code",
   "execution_count": 9,
   "metadata": {},
   "outputs": [
    {
     "data": {
      "text/plain": [
       "[<matplotlib.lines.Line2D at 0x7f99096b8668>]"
      ]
     },
     "execution_count": 9,
     "metadata": {},
     "output_type": "execute_result"
    },
    {
     "data": {
      "image/png": "[encoded data removed]",
      "text/plain": [
       "<Figure size 432x288 with 1 Axes>"
      ]
     },
     "metadata": {
      "needs_background": "light"
     },
     "output_type": "display_data"
    }
   ],
   "source": [
    "xs = np.arange(-2,2,0.001)\n",
    "plt.plot(xs, [uniform_pdf(x, 0, 1) for x in xs])"
   ]
  },
  {
   "cell_type": "code",
   "execution_count": 11,
   "metadata": {},
   "outputs": [
    {
     "data": {
      "text/plain": [
       "[<matplotlib.lines.Line2D at 0x7f99096166d8>]"
      ]
     },
     "execution_count": 11,
     "metadata": {},
     "output_type": "execute_result"
    },
    {
     "data": {
      "image/png": "[encoded data removed]",
      "text/plain": [
       "<Figure size 432x288 with 1 Axes>"
      ]
     },
     "metadata": {
      "needs_background": "light"
     },
     "output_type": "display_data"
    }
   ],
   "source": [
    "xs = np.arange(-2,2,0.001)\n",
    "plt.plot(xs, [uniform_cdf(x, 0, 1) for x in xs])"
   ]
  },
  {
   "cell_type": "markdown",
   "metadata": {},
   "source": [
    "# Random Variables\n",
    "\n",
    "We say that $X$ is a *discrete* random variable if it takes value in some (finite or countably infinite) set $S$, and has an associated probability function $P$ such that\n",
    "\n",
    "1. $0 \\leq P(s) \\leq 1 \\; \\forall s \\in S$  and\n",
    "2. $\\sum_{s\\in S} P(s) = 1.$\n",
    "\n",
    "We sometimes call the triple $(X,S,P)$ a *probability space*."
   ]
  },
  {
   "cell_type": "markdown",
   "metadata": {},
   "source": [
    "Similarly, $X$ is a *continuous* random variable if it takes values in $S$ with distribution function $F: \\mathbb{R} \\to [0,1]$ where\n",
    "\n",
    "1. $F$ is a (piecewise) continuous function,\n",
    "2. $0 \\leq F(x) \\leq 1$ for all $x$,\n",
    "3. $F(\\infty) = \\lim_{x \\rightarrow \\infty} F(x) = 1$, $F(-\\infty) = 0$.\n",
    "\n",
    "(Recall: $F(x) = P(X \\leq x)$)"
   ]
  },
  {
   "cell_type": "markdown",
   "metadata": {},
   "source": [
    "Example: let $X$ and $Y$ both be independent random variables with distribution $U(0,1)$.\n",
    "Then they are both continuous with pdf $f(x) = x$.\n",
    "Now we can talk about the event that both $X$ and $Y$ are less than $0.25$.\n",
    "We can write this as $$ P(X < 0.25, Y < 0.25) = P(X < 0.25) P(Y < 0.25) = 0.25^2 = 0.0625. $$"
   ]
  },
  {
   "cell_type": "markdown",
   "metadata": {},
   "source": [
    "When we look at data (e.g. adults data), the random variables are the \"rows\" of adult data and the values contained in there. For instance, we could look at the distribution of ages, the distribution of hours worked per week, the distribution of careers, income level, etc."
   ]
  },
  {
   "cell_type": "code",
   "execution_count": null,
   "metadata": {},
   "outputs": [],
   "source": []
  }
 ],
 "metadata": {
  "kernelspec": {
   "display_name": "Python 3",
   "language": "python",
   "name": "python3"
  },
  "language_info": {
   "codemirror_mode": {
    "name": "ipython",
    "version": 3
   },
   "file_extension": ".py",
   "mimetype": "text/x-python",
   "name": "python",
   "nbconvert_exporter": "python",
   "pygments_lexer": "ipython3",
   "version": "3.6.7"
  }
 },
 "nbformat": 4,
 "nbformat_minor": 2
}
