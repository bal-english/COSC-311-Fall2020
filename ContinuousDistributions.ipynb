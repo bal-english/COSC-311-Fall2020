{
 "cells": [
  {
   "cell_type": "markdown",
   "metadata": {},
   "source": [
    "# Continuous Distributions\n",
    "\n",
    "Compare versus the \"coin flip\" distributions in which our observed values only come from a discrete (either finite or countably infinite) set of possibilities. In a discrete distribution, there are single \"elements\" or \"atoms\" that have a non-zero probability of appearing, e.g. $P(HEADS) = 0.5$.\n",
    "\n",
    "In a continous distribution, there are no single \"atoms\" that have a non-zero probability.\n",
    "\n",
    "Example: a uniformly random value between $a$ and $b$, $U(a,b)$. In this case, simplify to $a=0$, $b=1$, then $P(0.5) = 0$. *But* the _distribution function_ of these values is not 0 between $a$ and $b$. \n",
    "\n",
    "For $U(a,b)$, the _pdf_ aka \"probability density function\" is\n",
    "$$ f(x) = \\begin{cases} \\frac{1}{b-a} \\quad a \\leq x \\leq b \\\\ 0 \\quad \\text{otherwise}. \\end{cases} $$"
   ]
  },
  {
   "cell_type": "markdown",
   "metadata": {},
   "source": [
    "The _cdf_ aka \"cumulative density function\" for this is\n",
    "$$ F(x) = P(\\text{value is at most } x) = \\int_{-\\infty}^{x} f(t) dt.$$\n",
    "For $U(a,b)$ the cdf is going to be\n",
    "$$ F(x) = \\int_{-\\infty}^{x} \\frac{1}{b-a} dt = \\int_{a}^{x} \\frac{1}{b-a} dt  = \\frac{t}{b-a} \\Bigg|_{a}^{x} = \\frac{x-a}{b-a}$$\n",
    "taking care of other cases:\n",
    "$$ F(x) = \\begin{cases} 0 \\quad x < a \\\\ \\frac{x-a}{b-a} \\quad a \\leq x \\leq b \\\\ 1 \\quad x > b \\end{cases} $$"
   ]
  },
  {
   "cell_type": "code",
   "execution_count": 1,
   "metadata": {},
   "outputs": [],
   "source": [
    "def uniform_pdf(x, a, b):\n",
    "    return 1.0/(b-a) if a <= x <= b else 0"
   ]
  },
  {
   "cell_type": "code",
   "execution_count": 10,
   "metadata": {},
   "outputs": [],
   "source": [
    "def uniform_cdf(x, a, b):\n",
    "    if x < a: return 0\n",
    "    elif x <= b: return (x-a)/(b-a)\n",
    "    else:     return 1"
   ]
  },
  {
   "cell_type": "code",
   "execution_count": 50,
   "metadata": {},
   "outputs": [],
   "source": [
    "from matplotlib import pyplot as plt\n",
    "import numpy as np\n",
    "import math"
   ]
  },
  {
   "cell_type": "code",
   "execution_count": 9,
   "metadata": {},
   "outputs": [
    {
     "data": {
      "text/plain": [
       "[<matplotlib.lines.Line2D at 0x7f99096b8668>]"
      ]
     },
     "execution_count": 9,
     "metadata": {},
     "output_type": "execute_result"
    },
    {
     "data": {
      "image/png": "[encoded data removed]",
      "text/plain": [
       "<Figure size 432x288 with 1 Axes>"
      ]
     },
     "metadata": {
      "needs_background": "light"
     },
     "output_type": "display_data"
    }
   ],
   "source": [
    "xs = np.arange(-2,2,0.001)\n",
    "plt.plot(xs, [uniform_pdf(x, 0, 1) for x in xs])"
   ]
  },
  {
   "cell_type": "code",
   "execution_count": 11,
   "metadata": {},
   "outputs": [
    {
     "data": {
      "text/plain": [
       "[<matplotlib.lines.Line2D at 0x7f99096166d8>]"
      ]
     },
     "execution_count": 11,
     "metadata": {},
     "output_type": "execute_result"
    },
    {
     "data": {
      "image/png": "[encoded data removed]",
      "text/plain": [
       "<Figure size 432x288 with 1 Axes>"
      ]
     },
     "metadata": {
      "needs_background": "light"
     },
     "output_type": "display_data"
    }
   ],
   "source": [
    "xs = np.arange(-2,2,0.001)\n",
    "plt.plot(xs, [uniform_cdf(x, 0, 1) for x in xs])"
   ]
  },
  {
   "cell_type": "markdown",
   "metadata": {},
   "source": [
    "# Random Variables\n",
    "\n",
    "We say that $X$ is a *discrete* random variable if it takes value in some (finite or countably infinite) set $S$, and has an associated probability function $P$ such that\n",
    "\n",
    "1. $0 \\leq P(s) \\leq 1 \\; \\forall s \\in S$  and\n",
    "2. $\\sum_{s\\in S} P(s) = 1.$\n",
    "\n",
    "We sometimes call the triple $(X,S,P)$ a *probability space*."
   ]
  },
  {
   "cell_type": "markdown",
   "metadata": {},
   "source": [
    "Similarly, $X$ is a *continuous* random variable if it takes values in $S$ with distribution function $F: \\mathbb{R} \\to [0,1]$ where\n",
    "\n",
    "1. $F$ is a (piecewise) continuous function,\n",
    "2. $0 \\leq F(x) \\leq 1$ for all $x$,\n",
    "3. $F(\\infty) = \\lim_{x \\rightarrow \\infty} F(x) = 1$, $F(-\\infty) = 0$.\n",
    "\n",
    "(Recall: $F(x) = P(X \\leq x)$)"
   ]
  },
  {
   "cell_type": "markdown",
   "metadata": {},
   "source": [
    "Example: let $X$ and $Y$ both be independent random variables with distribution $U(0,1)$.\n",
    "Then they are both continuous with pdf $f(x) = x$.\n",
    "Now we can talk about the event that both $X$ and $Y$ are less than $0.25$.\n",
    "We can write this as $$ P(X < 0.25, Y < 0.25) = P(X < 0.25) P(Y < 0.25) = 0.25^2 = 0.0625. $$"
   ]
  },
  {
   "cell_type": "markdown",
   "metadata": {},
   "source": [
    "When we look at data (e.g. adults data), the random variables are the \"rows\" of adult data and the values contained in there. For instance, we could look at the distribution of ages, the distribution of hours worked per week, the distribution of careers, income level, etc."
   ]
  },
  {
   "cell_type": "markdown",
   "metadata": {},
   "source": [
    "**Example:** If we say \"$X$ has distribution $U(a,b)$\" we mean that $X$ has distribution $$ F(x) = \\begin{cases} 0 \\quad x < a \\\\ \\frac{x-a}{b-a} \\quad a \\leq x \\leq b \\\\ 1 \\quad x > b. \\end{cases} $$\n",
    "If the context is unclear, we sometimes use $F_X(x)$ to denote the distribution function (cdf) of $X$."
   ]
  },
  {
   "cell_type": "markdown",
   "metadata": {},
   "source": [
    " **Example:** The *Normal* distribution (aka Gaussian) is the distribution denote $\\mathcal{N}(\\mu,\\sigma)$ with pdf \n",
    " $$f(x; \\mu, \\sigma) = \\frac{1}{\\sqrt{2 \\pi \\sigma}} \\exp\\left( - \\frac{(x-\\mu)^2}{2 \\sigma^2} \\right)$$\n",
    " and cdf\n",
    " $$ F(x) = \\frac{1}{2} \\left[ 1 + \\operatorname{erf}\\left( \\frac{x - \\mu}{\\sigma \\sqrt{2}} \\right) \\right]. $$"
   ]
  },
  {
   "cell_type": "code",
   "execution_count": 47,
   "metadata": {},
   "outputs": [],
   "source": [
    "# in python...\n",
    "def normal_pdf(x, mu, sigma):\n",
    "    return np.exp(-1*(x-mu)**2/(2 * sigma**2))/(np.sqrt(2*np.pi*sigma))"
   ]
  },
  {
   "cell_type": "code",
   "execution_count": 48,
   "metadata": {},
   "outputs": [
    {
     "data": {
      "text/plain": [
       "<matplotlib.legend.Legend at 0x7f9908a77c18>"
      ]
     },
     "execution_count": 48,
     "metadata": {},
     "output_type": "execute_result"
    },
    {
     "data": {
      "image/png": "[encoded data removed]",
      "text/plain": [
       "<Figure size 432x288 with 1 Axes>"
      ]
     },
     "metadata": {
      "needs_background": "light"
     },
     "output_type": "display_data"
    }
   ],
   "source": [
    "xs = np.arange(-5,5,0.001)\n",
    "plt.plot(xs, [normal_pdf(x, 0, 1) for x in xs], label='mu=0, sigma=1')\n",
    "plt.plot(xs, [normal_pdf(x, 1, 1) for x in xs], 'b:', label='mu=1, sigma=1')\n",
    "plt.plot(xs, [normal_pdf(x, 0, 2) for x in xs], '-', label='mu=0, sigma=2')\n",
    "plt.plot(xs, [normal_pdf(x, 0, 0.5) for x in xs], '--', label='mu=0, sigma=0.5')\n",
    "plt.legend(loc=2)\n",
    "\n",
    "#plt.plot(xs, [normal_pdf(x, 0, 1) for x in xs])"
   ]
  },
  {
   "cell_type": "code",
   "execution_count": 52,
   "metadata": {},
   "outputs": [],
   "source": [
    "# represents: 1) the prob that X (distributed as N(mu,sigma)) is <= x\n",
    "# or 2) the integral of nomral_pdf from -infinity to x\n",
    "def normal_cdf(x, mu, sigma):\n",
    "    return (1 + math.erf((x-mu)/(sigma*np.sqrt(2))))/2"
   ]
  },
  {
   "cell_type": "code",
   "execution_count": 53,
   "metadata": {},
   "outputs": [
    {
     "data": {
      "text/plain": [
       "<matplotlib.legend.Legend at 0x7f99089eee10>"
      ]
     },
     "execution_count": 53,
     "metadata": {},
     "output_type": "execute_result"
    },
    {
     "data": {
      "image/png": "[encoded data removed]",
      "text/plain": [
       "<Figure size 432x288 with 1 Axes>"
      ]
     },
     "metadata": {
      "needs_background": "light"
     },
     "output_type": "display_data"
    }
   ],
   "source": [
    "xs = np.arange(-5,5,0.001)\n",
    "plt.plot(xs, [normal_cdf(x, 0, 1) for x in xs], label='mu=0, sigma=1')\n",
    "plt.plot(xs, [normal_cdf(x, 1, 1) for x in xs], 'b:', label='mu=1, sigma=1')\n",
    "plt.plot(xs, [normal_cdf(x, 0, 2) for x in xs], '-', label='mu=0, sigma=2')\n",
    "plt.plot(xs, [normal_cdf(x, 0, 0.5) for x in xs], '--', label='mu=0, sigma=0.5')\n",
    "plt.legend(loc=2)"
   ]
  },
  {
   "cell_type": "markdown",
   "metadata": {},
   "source": [
    "If we know the CDF of a distribution, we can calculate $P(X \\in [a,b]) = F(b) - F(a)$."
   ]
  },
  {
   "cell_type": "markdown",
   "metadata": {},
   "source": [
    "**Definition:** The mean/expected value/average of a continuous random variable $X$ with pdf $f$ is denoted and defined as\n",
    "$$ \\mathbb{E}X = \\int_{-\\infty}^{\\infty} x f(x) dx. $$\n",
    "Also known as expected value, average."
   ]
  },
  {
   "cell_type": "markdown",
   "metadata": {},
   "source": [
    "**Definition:** The mean of a discrete random variable, $X$, that takes values in set $S \\subset \\mathbb{R}$ is denoted and defined as\n",
    "$$ \\mathbb{E}X = \\sum_{s \\in S} s \\cdot P(X = s). $$"
   ]
  },
  {
   "cell_type": "markdown",
   "metadata": {},
   "source": [
    "**Example:** Dice roll: $X$ takes value in $\\{1,2,3,4,5,6\\}$, each with probability $1/6$.\n",
    "That is, $P(X = i) = 1/6$ for each $i \\in \\{1,2,3,4,5,6\\}$."
   ]
  },
  {
   "cell_type": "markdown",
   "metadata": {},
   "source": [
    "So the mean of a (fair) die roll is\n",
    "$$ \\sum_{i=1}^{6} \\frac{i}{6} = 3.5 $$"
   ]
  },
  {
   "cell_type": "markdown",
   "metadata": {},
   "source": [
    "**Example:** Let $X$ be distributed as $U(0,1)$. Calculate \n",
    "$$\\mathbb{E}X = \\int_{-\\infty}^{\\infty} xf(x) dx = \\int_{a}^{b} \\frac{x}{b-a} dx$$"
   ]
  },
  {
   "cell_type": "markdown",
   "metadata": {},
   "source": [
    "$$ = \\int_{a}^{b} \\frac{x}{b-a} dx = \\frac{1}{b-a} \\int_{a}^{b} x dx = \\frac{1}{b-a} \\left( \\frac{x^2}{2} \\Big|_{a}^{b} \\right)$$"
   ]
  },
  {
   "cell_type": "markdown",
   "metadata": {},
   "source": [
    "$$ = \\frac{1}{b-a} \\left( \\frac{x^2}{2} \\Big|_{a}^{b} \\right) = \\frac{1}{b-a}\\frac{b^2 - a^2}{2}$$"
   ]
  },
  {
   "cell_type": "markdown",
   "metadata": {},
   "source": [
    "$$= \\frac{1}{b-a}\\frac{b^2 - a^2}{2} = \\frac{(b-a)(b+a)}{2(b-a)}$$"
   ]
  },
  {
   "cell_type": "markdown",
   "metadata": {},
   "source": [
    "$$ = \\frac{(b-a)(b+a)}{2(b-a)} = \\frac{b+a}{2}$$"
   ]
  },
  {
   "cell_type": "markdown",
   "metadata": {},
   "source": [
    "In our example, $a=0$, $b=1$, the average is $\\frac{0+1}{2} = 0.5$."
   ]
  },
  {
   "cell_type": "markdown",
   "metadata": {},
   "source": [
    "**Definition:** The *variance* of a random variable $X$ is denoted and defined as \n",
    "$$ \\operatorname{Var}(X) = \\mathbb{E}\\left( (X - \\mathbb{E}X)^2 \\right).$$"
   ]
  },
  {
   "cell_type": "markdown",
   "metadata": {},
   "source": [
    "**Fact:** For random variable $X$ with $\\mathbb{E}X = \\mu$,\n",
    "$$\\operatorname{Var}(X) = \\mathbb{E}(X^2 - 2X\\mu + \\mu^2) = \\mathbb{E}X^2 - (\\mathbb{E}X)^2$$"
   ]
  },
  {
   "cell_type": "markdown",
   "metadata": {},
   "source": [
    "*Sub-fact:* Expectation (because it is an integral) is linear!\n",
    "I.e. for $a,b \\in \\mathbb{R}$, $\\mathbb{E}(aX + bY) = a\\mathbb{E}X + b\\mathbb{E}Y$."
   ]
  },
  {
   "cell_type": "markdown",
   "metadata": {},
   "source": [
    "$$ = \\mathbb{E}(X^2 - 2X\\mu + \\mu^2) = \\mathbb{E}X^2 - 2 \\mu \\mathbb{E}X + \\mu^2.$$"
   ]
  },
  {
   "cell_type": "markdown",
   "metadata": {},
   "source": [
    "$$ = \\mathbb{E}X^2 - 2 \\mu \\mu + \\mu^2 = \\mathbb{E}X^2 - \\mu^2 = \\mathbb{E}(X^2) - (\\mathbb{E}X)^2.$$"
   ]
  },
  {
   "cell_type": "markdown",
   "metadata": {},
   "source": [
    "For random variables, $X$,$Y$, it is only true that $\\mathbb{E}(XY) = (\\mathbb{E}X)(\\mathbb{E}Y)$ if they are independent."
   ]
  },
  {
   "cell_type": "markdown",
   "metadata": {},
   "source": [
    "**Co-variance**: For two random variables, the _covariance_ of $X$ and $Y$ is denoted and defined as $$\\operatorname{cov}(X,Y) = \\mathbb{E}\\left[ (X-\\mathbb{E}X)(Y - \\mathbb{E}Y)) \\right]. $$"
   ]
  },
  {
   "cell_type": "markdown",
   "metadata": {},
   "source": [
    "If $X \\perp Y$ (i.e. $X$ and $Y$ are independent) then\n",
    "$$ \\begin{align*}\n",
    "\\operatorname{cov}(X,Y) &= \\left(\\mathbb{E}(X - \\mathbb{E}X) \\right) \\left(\\mathbb{E}(Y - \\mathbb{E}Y \\right) \\\\\n",
    "&= (\\mathbb{E}X - \\mathbb{E}X)( \\mathbb{E}Y - \\mathbb{E}Y) \\\\\n",
    "&= 0\n",
    "\\end{align*}\n",
    "$$"
   ]
  },
  {
   "cell_type": "markdown",
   "metadata": {},
   "source": [
    "**Fact:** By linearity of expectation, if $X$ has mean $\\mu$, then $X - \\mu$ has mean 0."
   ]
  },
  {
   "cell_type": "code",
   "execution_count": 54,
   "metadata": {},
   "outputs": [],
   "source": [
    "def mean(x):\n",
    "    return sum(x)/len(x)\n",
    "\n",
    "def cov(x, y):\n",
    "    # centered x's\n",
    "    xmean = mean(x)\n",
    "    xs = [i - xmean for i in x]\n",
    "    \n",
    "    ymean = mean(y)\n",
    "    ys = [i - ymean for i in y]\n",
    "    \n",
    "    return mean([xi * yi for (xi, yi) in zip(xs, ys)])"
   ]
  },
  {
   "cell_type": "code",
   "execution_count": 62,
   "metadata": {},
   "outputs": [
    {
     "data": {
      "text/plain": [
       "0.5"
      ]
     },
     "execution_count": 62,
     "metadata": {},
     "output_type": "execute_result"
    },
    {
     "data": {
      "image/png": "[encoded data removed]",
      "text/plain": [
       "<Figure size 432x288 with 1 Axes>"
      ]
     },
     "metadata": {
      "needs_background": "light"
     },
     "output_type": "display_data"
    }
   ],
   "source": [
    "x = [-2, -1,  0, 1, 2]\n",
    "y = [ 1,  1.5,  2, 2, 2]\n",
    "\n",
    "plt.scatter(x,y)\n",
    "\n",
    "cov(x,y)"
   ]
  },
  {
   "cell_type": "code",
   "execution_count": 55,
   "metadata": {},
   "outputs": [
    {
     "data": {
      "text/plain": [
       "0.0"
      ]
     },
     "execution_count": 55,
     "metadata": {},
     "output_type": "execute_result"
    }
   ],
   "source": [
    "# Example:\n",
    "x = [-2, -1,  0, 1, 2]\n",
    "y = [ 2,  1,  0, 1, 2] # y = |x|\n",
    "\n",
    "cov(x,y)"
   ]
  },
  {
   "cell_type": "code",
   "execution_count": 75,
   "metadata": {},
   "outputs": [
    {
     "name": "stdout",
     "output_type": "stream",
     "text": [
      "81666.6666667\n"
     ]
    },
    {
     "data": {
      "text/plain": [
       "<matplotlib.collections.PathCollection at 0x7f99085639e8>"
      ]
     },
     "execution_count": 75,
     "metadata": {},
     "output_type": "execute_result"
    },
    {
     "data": {
      "image/png": "[encoded data removed]",
      "text/plain": [
       "<Figure size 432x288 with 1 Axes>"
      ]
     },
     "metadata": {
      "needs_background": "light"
     },
     "output_type": "display_data"
    }
   ],
   "source": [
    "x = np.arange(1,100)\n",
    "y = np.arange(1,100) ** 2\n",
    "\n",
    "print(cov(x,y))\n",
    "\n",
    "plt.scatter(x,y)"
   ]
  },
  {
   "cell_type": "markdown",
   "metadata": {},
   "source": [
    "# Central Limit Theorem\n",
    "\n",
    "Let random variable $X$ have mean $\\mu$ and standard deviation $\\sigma$.\n",
    "Then, if $x_1, x_2, \\dots, x_n$ are iid samples of $X$,\n",
    "$$ \\bar{x} = \\frac{1}{n} (x_1 + x_2 + \\dots + x_n)$$\n",
    "will, if $n$ is large, \"behave like \" $\\mathcal{N}\\left(\\mu, \\frac{\\sigma}{\\sqrt{n}}\\right)$."
   ]
  },
  {
   "cell_type": "markdown",
   "metadata": {},
   "source": [
    "The Bernoulli distribution with parameter $p$ takes value $1$ with probability $p$ and $0$ with probability $1-p$. Denote this as $\\operatorname{Bernoulli}(p)$."
   ]
  },
  {
   "cell_type": "markdown",
   "metadata": {},
   "source": [
    "The Binomial distribution is realized as a sum of Bernoulli trials.\n",
    "We say $\\operatorname{Binom}(n,p)$ is the sum of $n$ variables with distribution $\\operatorname{Bernoulli}(p)$."
   ]
  },
  {
   "cell_type": "markdown",
   "metadata": {},
   "source": [
    "The mean of a $\\operatorname{Bernoulli(p)}$ random variable is $p = 1 \n",
    "\\cdot p + 0 \\cdot (1-p)$."
   ]
  },
  {
   "cell_type": "markdown",
   "metadata": {},
   "source": [
    "The mean of Binomial($n,p$) is $np$ because it is the sum of $n$ r.v's each with mean $p$."
   ]
  },
  {
   "cell_type": "markdown",
   "metadata": {},
   "source": [
    "The variance of Binomial($n,p$) is $n p (1-p)$."
   ]
  },
  {
   "cell_type": "markdown",
   "metadata": {},
   "source": [
    "Let $X$ be distributed as Binom($n,p$). Then\n",
    "$$\\begin{align*} \\operatorname{Var}(X) &= \\mathbb{E} (X - np)^2 \\\\\n",
    "&= \\mathbb{E}X^2 - 2np\\mathbb{E}X + n^2 p^2 \\\\\n",
    "&= \\mathbb{E}X^2 - 2n^2p^2 + n^2 p^2 \\\\\n",
    "&= -n^2 p^2 + \\mathbb{E} X^2\n",
    "\\end{align*}$$"
   ]
  },
  {
   "cell_type": "markdown",
   "metadata": {},
   "source": [
    "Finally, after some scratch work, we get\n",
    "$$ \\operatorname{Var}(X) = np(1-p) $$"
   ]
  },
  {
   "cell_type": "markdown",
   "metadata": {},
   "source": [
    "So if we are estimating the average of a Binom($n,p$) random variable, the distribution of the average should look like $\\mathcal{N}\\left(np, \\sqrt{np(1-p)} \\right)$."
   ]
  },
  {
   "cell_type": "code",
   "execution_count": 154,
   "metadata": {},
   "outputs": [
    {
     "name": "stdout",
     "output_type": "stream",
     "text": [
      "Counter({496: 34, 505: 33, 497: 31, 503: 29, 504: 29, 509: 28, 492: 27, 500: 26, 508: 26, 498: 26, 499: 26, 502: 25, 501: 24, 495: 23, 491: 22, 513: 21, 489: 21, 507: 21, 484: 21, 493: 21, 494: 19, 511: 19, 510: 18, 512: 18, 487: 18, 517: 17, 514: 17, 515: 17, 506: 16, 488: 16, 481: 15, 518: 14, 490: 14, 483: 14, 516: 13, 480: 13, 486: 12, 472: 12, 519: 12, 477: 11, 522: 11, 520: 10, 479: 10, 482: 9, 478: 8, 523: 8, 485: 7, 526: 7, 475: 7, 474: 7, 524: 5, 529: 5, 528: 5, 540: 4, 531: 4, 521: 4, 468: 4, 473: 4, 527: 4, 525: 4, 469: 4, 536: 3, 470: 3, 467: 3, 530: 3, 537: 3, 476: 3, 462: 2, 464: 2, 535: 2, 533: 2, 471: 2, 460: 2, 546: 2, 457: 2, 466: 2, 459: 2, 541: 1, 542: 1, 452: 1, 532: 1, 465: 1, 446: 1, 539: 1, 454: 1, 463: 1, 458: 1, 534: 1, 544: 1})\n"
     ]
    },
    {
     "data": {
      "text/plain": [
       "[<matplotlib.lines.Line2D at 0x7f9906fed6a0>]"
      ]
     },
     "execution_count": 154,
     "metadata": {},
     "output_type": "execute_result"
    },
    {
     "data": {
      "image/png": "[encoded data removed]",
      "text/plain": [
       "<Figure size 432x288 with 1 Axes>"
      ]
     },
     "metadata": {
      "needs_background": "light"
     },
     "output_type": "display_data"
    }
   ],
   "source": [
    "from collections import Counter\n",
    "\n",
    "# Example: take coin flips, Bernoulli random variable\n",
    "n = 1000\n",
    "p = 0.5\n",
    "num = 1000\n",
    "\n",
    "# a single of binomial(n,p)\n",
    "# the estimated of these should look like N(np, sqrt(np(1-p)))\n",
    "def binom(n,p):\n",
    "    return sum([np.random.choice([0,1], p=[1-p,p]) for _ in range(0,n)])\n",
    "\n",
    "data = [binom(n,p) for _ in range(num)]\n",
    "\n",
    "# Counter will count the occurences of values\n",
    "# so key: value says that we got \"key\" heads, \"value\" times\n",
    "counts = Counter(data)\n",
    "print(counts)\n",
    "\n",
    "plt.bar([x for x in counts.keys()],[v / num for v in counts.values()])\n",
    "\n",
    "#means = [mean(binom(n,p,100)) for _ in range(0,100)]\n",
    "\n",
    "mu = n*p\n",
    "sigma = math.sqrt(n*p*(1-p))\n",
    "\n",
    "xs = np.arange(-20,20,0.1) + mu\n",
    "# the CLT says the average of a binom(n,p) will follow this curve\n",
    "# normal_cdf(x + 0.5, mu, sigma) - normal_cdf(x - 0.5, mu, sigma) is \n",
    "# Prob( Normal lies within [x-0.5, x+0.5] ), i.e. the integral of the \n",
    "# normal pdf from x-0.5 to x+0.5, i.e the integral of a \"strip\" of the normal pdf around x\n",
    "plt.plot(xs, [normal_cdf(x + 0.5, mu, sigma) - normal_cdf(x - 0.5, mu, sigma) for x in xs])"
   ]
  },
  {
   "cell_type": "markdown",
   "metadata": {},
   "source": [
    "Estimating the mean is an example of _point estimation_. Specifically, when estimating the mean of $X$ with mean $\\mu$ and standard deviation $\\sigma$, define the **Standard Error** as\n",
    "$$ \\operatorname{SE} := \\operatorname{Std}(\\bar{x})= \\frac{\\sigma_x}{\\sqrt{n}} = \\sqrt{\\operatorname{Var}(\\bar{x})}. $$"
   ]
  },
  {
   "cell_type": "markdown",
   "metadata": {},
   "source": [
    "What we do is, for the empirical mean $\\bar{x}$, use $\\sigma_{\\bar{x}}$ as a substitute.\n",
    "By some results from probability, this is pretty accurate when $n > 30$."
   ]
  },
  {
   "cell_type": "markdown",
   "metadata": {},
   "source": [
    "What to do with the standard error: construct confidence interval."
   ]
  },
  {
   "cell_type": "markdown",
   "metadata": {},
   "source": [
    "Quick and dirty example: if we have a point estimate $\\bar{x}$ with standard error SE, the interval in which 95% of the $\\bar{x}$ values should lie is given by \n",
    "$$ [ \\bar{x} - 1.96 \\operatorname{SE}, \\bar{x} + 1.96 \\operatorname{SE} ] $$"
   ]
  },
  {
   "cell_type": "code",
   "execution_count": 151,
   "metadata": {},
   "outputs": [
    {
     "data": {
      "text/plain": [
       "<matplotlib.legend.Legend at 0x7f990701a400>"
      ]
     },
     "execution_count": 151,
     "metadata": {},
     "output_type": "execute_result"
    },
    {
     "data": {
      "image/png": "[encoded data removed]",
      "text/plain": [
       "<Figure size 432x288 with 1 Axes>"
      ]
     },
     "metadata": {
      "needs_background": "light"
     },
     "output_type": "display_data"
    }
   ],
   "source": [
    "import numpy as np\n",
    "\n",
    "bar1 = [5, 3, 1]\n",
    "bar2 = [4, 2, 5]\n",
    "\n",
    "plt.bar([1,2,3],bar1, yerr=[0.2, 0.1, 0.3], capsize=7, width=0.3, label='test')\n",
    "plt.bar(np.array([1,2,3])+0.5,bar2, yerr=[0.4, 0.5, 0.1], capsize=7, width=0.3, label='test 2')\n",
    "plt.legend()"
   ]
  },
  {
   "cell_type": "code",
   "execution_count": 155,
   "metadata": {},
   "outputs": [
    {
     "name": "stdout",
     "output_type": "stream",
     "text": [
      "0.5\n",
      "1000\n",
      "[ 0.5    0.497  0.508  0.486  0.498  0.496  0.51   0.5    0.503  0.513]\n",
      "The point estimate of xbar is : 0.499866\n",
      "The SE is 0.01557453190307819\n",
      "The interval is +- 0.03052608253003325\n"
     ]
    }
   ],
   "source": [
    "# Put a confidence interval on our coin flip distribution mean\n",
    "# data is an array of Binom(n,p) samples so view these each as the sum of 100 coin flips\n",
    "# dividing data by 100 gives 10,000 samples of xbar\n",
    "print(data[0]/n)\n",
    "print(n)\n",
    "data2 = np.array(data) / n\n",
    "print(data2[:10])\n",
    "\n",
    "print(f\"The point estimate of xbar is : {data2.mean()}\")\n",
    "print(f\"The SE is {data2.std()}\")\n",
    "print(f\"The interval is +- {1.96*data2.std()}\")"
   ]
  },
  {
   "cell_type": "code",
   "execution_count": 156,
   "metadata": {},
   "outputs": [
    {
     "data": {
      "text/plain": [
       "<BarContainer object of 1 artists>"
      ]
     },
     "execution_count": 156,
     "metadata": {},
     "output_type": "execute_result"
    },
    {
     "data": {
      "image/png": "[encoded data removed]",
      "text/plain": [
       "<Figure size 432x288 with 1 Axes>"
      ]
     },
     "metadata": {
      "needs_background": "light"
     },
     "output_type": "display_data"
    }
   ],
   "source": [
    "plt.bar([1],[data2.mean()], yerr=[1.96*data2.std()], capsize=7)"
   ]
  },
  {
   "cell_type": "markdown",
   "metadata": {},
   "source": [
    "## Hypothesis Testing\n",
    "\n",
    "Idea:\n",
    "\n",
    "1. Pick a Hypothesis, $H_0$ (the _null_ hypothesis). For example: \"our coin is fair; i.e. $p = 0.5$\".\n",
    "2. If $H_0$ is true, we know then that the sum of $n$ of these coin flips is approx $\\mathcal{N}\\left(np, \\sqrt{np(1-p)} \\right)$.\n",
    "3. Then, start calculating some estimates of this quantity, see how many of them \"are too extreme\".\n",
    "4. If it is too extreme, \"reject the null hypothesis\" or not.\n"
   ]
  },
  {
   "cell_type": "code",
   "execution_count": 168,
   "metadata": {},
   "outputs": [
    {
     "data": {
      "text/plain": [
       "484"
      ]
     },
     "execution_count": 168,
     "metadata": {},
     "output_type": "execute_result"
    }
   ],
   "source": [
    "n = 1000\n",
    "p = 0.5\n",
    "flips = binom(n,p)\n",
    "mu = n*p\n",
    "sigma = math.sqrt(n*p*(1-p))\n",
    "flips"
   ]
  },
  {
   "cell_type": "code",
   "execution_count": 172,
   "metadata": {},
   "outputs": [
    {
     "data": {
      "text/plain": [
       "[<matplotlib.lines.Line2D at 0x7f9904eba2b0>]"
      ]
     },
     "execution_count": 172,
     "metadata": {},
     "output_type": "execute_result"
    },
    {
     "data": {
      "image/png": "[encoded data removed]",
      "text/plain": [
       "<Figure size 432x288 with 1 Axes>"
      ]
     },
     "metadata": {
      "needs_background": "light"
     },
     "output_type": "display_data"
    }
   ],
   "source": [
    "xs = np.arange(0,1000,0.001)\n",
    "plt.plot(xs, [normal_pdf(x, mu, sigma) for x in xs])"
   ]
  },
  {
   "cell_type": "markdown",
   "metadata": {},
   "source": [
    "For a cdf, $F$, of random variable $X$, we want to be able to know the _inverse_ distribution function, denoted and defined as $ F^{-1}(x) = t $ where $t$ is the unique value such that $F(t) = P(X \\leq t ) = x$."
   ]
  },
  {
   "cell_type": "code",
   "execution_count": 181,
   "metadata": {},
   "outputs": [
    {
     "data": {
      "text/plain": [
       "1.0"
      ]
     },
     "execution_count": 181,
     "metadata": {},
     "output_type": "execute_result"
    }
   ],
   "source": [
    "normal_cdf(4 + 5*10, 4, 5)"
   ]
  },
  {
   "cell_type": "code",
   "execution_count": 183,
   "metadata": {},
   "outputs": [],
   "source": [
    "# for the normal distribution\n",
    "def inverse_normal_cdf(t, mu, sigma):\n",
    "    # BINARY SEARCH!\n",
    "    # - start our \"low\" value at somewhere like -10\n",
    "    # - start out \"high\" value at ~ 10\n",
    "    \n",
    "    # make sure these center around mu\n",
    "    high, low = 10*sigma + mu, -10*sigma + mu\n",
    "    \n",
    "    # the tolerance if we are \"close enough\" to t\n",
    "    tol = 1e-5\n",
    "    \n",
    "    # for safety\n",
    "    max_iters = 1000\n",
    "    loop = 0\n",
    "    \n",
    "    while loop < max_iters:\n",
    "        loop += 1\n",
    "        mid = (high+low)/2\n",
    "        if abs(normal_cdf(mid, mu, sigma) - t) < tol:\n",
    "            return mid\n",
    "        elif normal_cdf(mid, mu, sigma) > t:\n",
    "            high = mid # mid is too high, bring the range down \n",
    "        else:\n",
    "            low = mid\n",
    "    \n",
    "    print(\"Error! Took too long to converge!\")"
   ]
  },
  {
   "cell_type": "code",
   "execution_count": 190,
   "metadata": {},
   "outputs": [
    {
     "data": {
      "text/plain": [
       "1.6448974609375"
      ]
     },
     "execution_count": 190,
     "metadata": {},
     "output_type": "execute_result"
    }
   ],
   "source": [
    "inverse_normal_cdf(0.95, 0, 1) # try for standard normal"
   ]
  },
  {
   "cell_type": "code",
   "execution_count": 191,
   "metadata": {},
   "outputs": [
    {
     "data": {
      "text/plain": [
       "0.9500045206832439"
      ]
     },
     "execution_count": 191,
     "metadata": {},
     "output_type": "execute_result"
    }
   ],
   "source": [
    "normal_cdf(inverse_normal_cdf(0.95, 0, 1), 0, 1)"
   ]
  },
  {
   "cell_type": "code",
   "execution_count": 186,
   "metadata": {},
   "outputs": [],
   "source": [
    "# Calculate the probability of lying inside the\n",
    "# range [mu - t, mu + t]\n",
    "def normal_center_probability(t, mu, sigma):\n",
    "    # return the difference of two integrals\n",
    "    return normal_cdf(mu + t, mu, sigma) - normal_cdf(mu - t, mu, sigma)\n",
    "\n",
    "# Calculates the probability of lying oustide the range\n",
    "# [mu - t, mu + t]\n",
    "def normal_tail_probability(t, mu, sigma):\n",
    "    # use the law of total probability, full integral must be 1\n",
    "    return 1 - normal_center_probability(t, mu, sigma)"
   ]
  },
  {
   "cell_type": "code",
   "execution_count": 196,
   "metadata": {},
   "outputs": [],
   "source": [
    "def normal_two_sided_limits(p, mu, sigma):\n",
    "    # calculate the bounds around the mean\n",
    "    # that have probability p\n",
    "    tail_p = (1 - p)/2\n",
    "    \n",
    "    # how far to the right do we get probability tail_p\n",
    "    high = inverse_normal_cdf(1 - tail_p, mu, sigma)\n",
    "    \n",
    "    # how far to the left\n",
    "    low = inverse_normal_cdf(tail_p, mu, sigma)\n",
    "    \n",
    "    return low, high"
   ]
  },
  {
   "cell_type": "code",
   "execution_count": 203,
   "metadata": {},
   "outputs": [],
   "source": [
    "def two_sided_p_value(x, mu, sigma):\n",
    "    \"\"\"\n",
    "    Calculates that, assuming X comes from N(mu, sigma),\n",
    "    what is the probability that we observe something as\n",
    "    extreme as x. I.e. what is the probabily in the tails\n",
    "    that are |mu-x| apart.\n",
    "    \"\"\"\n",
    "    return normal_tail_probability(abs(mu-x), mu, sigma)"
   ]
  },
  {
   "cell_type": "code",
   "execution_count": 202,
   "metadata": {},
   "outputs": [
    {
     "data": {
      "text/plain": [
       "(469.0122266638163, 530.9877733361837)"
      ]
     },
     "execution_count": 202,
     "metadata": {},
     "output_type": "execute_result"
    }
   ],
   "source": [
    "normal_two_sided_limits(0.95, mu, sigma)"
   ]
  },
  {
   "cell_type": "code",
   "execution_count": 199,
   "metadata": {},
   "outputs": [
    {
     "data": {
      "text/plain": [
       "0.3115720733144085"
      ]
     },
     "execution_count": 199,
     "metadata": {},
     "output_type": "execute_result"
    }
   ],
   "source": [
    "normal_tail_probability(16, mu, sigma)"
   ]
  },
  {
   "cell_type": "code",
   "execution_count": 201,
   "metadata": {},
   "outputs": [
    {
     "data": {
      "text/plain": [
       "0.6884279266855915"
      ]
     },
     "execution_count": 201,
     "metadata": {},
     "output_type": "execute_result"
    }
   ],
   "source": [
    "normal_center_probability(16, mu, sigma)"
   ]
  },
  {
   "cell_type": "code",
   "execution_count": 204,
   "metadata": {},
   "outputs": [
    {
     "data": {
      "text/plain": [
       "0.3759205825480747"
      ]
     },
     "execution_count": 204,
     "metadata": {},
     "output_type": "execute_result"
    }
   ],
   "source": [
    "two_sided_p_value(486, mu, sigma)"
   ]
  },
  {
   "cell_type": "code",
   "execution_count": 195,
   "metadata": {},
   "outputs": [
    {
     "data": {
      "text/plain": [
       "15.811388300841896"
      ]
     },
     "execution_count": 195,
     "metadata": {},
     "output_type": "execute_result"
    }
   ],
   "source": [
    "sigma"
   ]
  },
  {
   "cell_type": "code",
   "execution_count": 206,
   "metadata": {},
   "outputs": [
    {
     "data": {
      "text/plain": [
       "0.04298479507085862"
      ]
     },
     "execution_count": 206,
     "metadata": {},
     "output_type": "execute_result"
    }
   ],
   "source": [
    "two_sided_p_value(532, mu, sigma) # If H0 were true, we just won the lottery. So... H0 is probably false :("
   ]
  },
  {
   "cell_type": "code",
   "execution_count": null,
   "metadata": {},
   "outputs": [],
   "source": [
    "n = 1000\n",
    "p = 0.5\n",
    "flips = binom(n,p)\n",
    "mu = n*p\n",
    "sigma = math.sqrt(n*p*(1-p))"
   ]
  }
 ],
 "metadata": {
  "kernelspec": {
   "display_name": "Python 3",
   "language": "python",
   "name": "python3"
  },
  "language_info": {
   "codemirror_mode": {
    "name": "ipython",
    "version": 3
   },
   "file_extension": ".py",
   "mimetype": "text/x-python",
   "name": "python",
   "nbconvert_exporter": "python",
   "pygments_lexer": "ipython3",
   "version": "3.6.7"
  }
 },
 "nbformat": 4,
 "nbformat_minor": 2
}
