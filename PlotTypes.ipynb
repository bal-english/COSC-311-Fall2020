{
 "cells": [
  {
   "cell_type": "markdown",
   "metadata": {},
   "source": [
    "# More Plotting\n",
    "\n",
    "## When to bar plot?\n",
    "\n",
    "Ordinal/nominal data: rank data, not a unit of measurement, discrete.\n",
    "Not always inter-relationships between different values (different occupations, colors)\n",
    "\n",
    "### What statistics to look at?\n",
    "\n",
    "## When to line plot?\n",
    "\n",
    "Series-based data, inter-relationships, temporal relationships.\n",
    "Lines imply a relationship between points\n",
    "\n",
    "### What statistics to look at?\n",
    "\n",
    "## When to scatter?\n",
    "\n",
    "Still scatter with inter-x relationships, but each point doesn't \"follow from\" the last one. The x-values are independent of each other, but are related (e.g. an order). Sampling order doesn't matter.\n",
    "\n",
    "### What statistics to look at?"
   ]
  },
  {
   "cell_type": "code",
   "execution_count": null,
   "metadata": {},
   "outputs": [],
   "source": []
  }
 ],
 "metadata": {
  "kernelspec": {
   "display_name": "Python 3",
   "language": "python",
   "name": "python3"
  },
  "language_info": {
   "codemirror_mode": {
    "name": "ipython",
    "version": 3
   },
   "file_extension": ".py",
   "mimetype": "text/x-python",
   "name": "python",
   "nbconvert_exporter": "python",
   "pygments_lexer": "ipython3",
   "version": "3.6.7"
  }
 },
 "nbformat": 4,
 "nbformat_minor": 2
}
