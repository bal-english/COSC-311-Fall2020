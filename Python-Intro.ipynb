{
 "cells": [
  {
   "cell_type": "markdown",
   "metadata": {},
   "source": [
    "# Python Basics\n",
    "\n",
    "## For programmers coming from C/C++\n",
    "\n",
    "As we discussed, Python is a _dynamically typed_, _interpreted_ language.\n",
    "This document will serve as a \"starter\" for a quick crash-course through the \"zen\" of Python.\n",
    "For further basis, consult the DSFS textbook by Joel Grus, and other course resources."
   ]
  },
  {
   "cell_type": "code",
   "execution_count": 3,
   "metadata": {},
   "outputs": [
    {
     "name": "stdout",
     "output_type": "stream",
     "text": [
      "10\n",
      "hello, world!\n"
     ]
    }
   ],
   "source": [
    "# NB: pound signs start a comment\n",
    "# no boilerplate necessary, just start typing Python!\n",
    "a = 10\n",
    "print(a)\n",
    "a = \"hello, world!\" # a just changed types!\n",
    "print(a)"
   ]
  },
  {
   "cell_type": "markdown",
   "metadata": {},
   "source": [
    "Looking at the code above, we can also see that the syntax (so far) is rougly similar to C/C++/Java and other languages. Note the lack of semicolons and type annotations."
   ]
  },
  {
   "cell_type": "markdown",
   "metadata": {},
   "source": [
    "## TODO:\n",
    "- [ ] whitespace-based formatting\n",
    "    - [ ] conditionals\n",
    "    - [ ] multi-line code\n",
    "- [ ] looping\n",
    "- [ ] functions\n",
    "- [ ] strings\n",
    "- [ ] exceptions\n",
    "- [ ] lists\n",
    "- [ ] tuples\n",
    "- [ ] dictionaries"
   ]
  }
 ],
 "metadata": {
  "kernelspec": {
   "display_name": "Python 3",
   "language": "python",
   "name": "python3"
  },
  "language_info": {
   "codemirror_mode": {
    "name": "ipython",
    "version": 3
   },
   "file_extension": ".py",
   "mimetype": "text/x-python",
   "name": "python",
   "nbconvert_exporter": "python",
   "pygments_lexer": "ipython3",
   "version": "3.6.7"
  }
 },
 "nbformat": 4,
 "nbformat_minor": 2
}
